{
 "cells": [
  {
   "cell_type": "code",
   "execution_count": 70,
   "id": "ee866544-963a-4e7e-bbb2-c94b48ebae12",
   "metadata": {
    "execution": {
     "iopub.execute_input": "2023-05-13T09:02:15.066606Z",
     "iopub.status.busy": "2023-05-13T09:02:15.065428Z",
     "iopub.status.idle": "2023-05-13T09:02:15.096553Z",
     "shell.execute_reply": "2023-05-13T09:02:15.095181Z",
     "shell.execute_reply.started": "2023-05-13T09:02:15.066558Z"
    },
    "scrolled": true,
    "tags": []
   },
   "outputs": [],
   "source": [
    "import paddle\n",
    "import paddle.nn.functional as F\n",
    "from paddle.nn import Conv1D, MaxPool1D, BatchNorm1D, Linear, Conv2D, MaxPool2D, BatchNorm2D, Dropout, LSTM, AvgPool2D\n",
    "\n",
    "class CQTDataset(paddle.io.Dataset):\n",
    "    def __init__(self, data):\n",
    "        self.data = data\n",
    "    \n",
    "    def __getitem__(self, index):\n",
    "        data = self.data[index]\n",
    "\n",
    "        return data\n",
    "\n",
    "    def __len__(self):\n",
    "        return len(self.data)\n",
    "\n",
    "class conv_block(paddle.nn.Layer):\n",
    "    def __init__(self, in_channels, out_channels, kernel_size, padding):\n",
    "        super(conv_block, self).__init__()\n",
    "        self.conv = Conv2D(in_channels=in_channels, out_channels=out_channels, \n",
    "                           kernel_size=kernel_size, padding=padding)\n",
    "        self.bn = BatchNorm2D(out_channels)\n",
    "    def forward(self, x):\n",
    "        out = self.conv(x)\n",
    "        out = self.bn(out)\n",
    "        out = F.relu(out)\n",
    "        return out\n",
    "\n",
    "class base_line(paddle.nn.Layer):\n",
    "    def __init__(self, num_classes=1):\n",
    "        super(base_line, self).__init__()\n",
    "        self.head = paddle.nn.Sequential(\n",
    "            # 可以将卷积层改为一维或二维进行测试\n",
    "            conv_block(1, 32, 7, 3),\n",
    "            MaxPool2D([1,2],[1,2]),\n",
    "            conv_block(32, 32, 7, 3),\n",
    "            MaxPool2D([1,4],[1,4]),\n",
    "            conv_block(32, 512, [1,1], [0,0]),\n",
    "            MaxPool2D([1,11],[1,11]),\n",
    "            conv_block(512, 512, [1,1], [0,0]),\n",
    "            Conv2D(512, num_labels, (1,1), padding=(0,0)),\n",
    "            )\n",
    "        \n",
    "\n",
    "    def forward(self, x):\n",
    "        x = self.head(x)\n",
    "        return x\n",
    "\n",
    "class LsBlock(paddle.nn.Layer):\n",
    "    def __init__(self, in_channels, out_channels, num_layers, features_num=1):\n",
    "        super(LsBlock, self).__init__()\n",
    "        self.out_channels = out_channels\n",
    "        self.ls1 = LSTM(input_size=in_channels*features_num, hidden_size=out_channels*features_num, num_layers=num_layers, direction=\"bidirect\")\n",
    "        self.lsbn1 = BatchNorm2D(in_channels*features_num*2)\n",
    "        self.pool1 = AvgPool2D([2,1],[2,1])\n",
    "        self.bn = BatchNorm2D(out_channels)\n",
    "        self.lsconv = Conv2D(in_channels=in_channels, out_channels=out_channels, kernel_size=[1,3], stride=[2*features_num,1], padding=[0,1])\n",
    "\n",
    "    def forward(self, x):\n",
    "        x = x.reshape([x.shape[0], -1, x.shape[3]])  # LSTMtemp\n",
    "        x = paddle.transpose(x, perm=[0, 2, 1])  # 维度交换\n",
    "        x, (h, c) = self.ls1(x) #LSTM\n",
    "        x = x.reshape([x.shape[0], x.shape[1], -1, self.out_channels])\n",
    "        x = paddle.transpose(x, perm=[0, 3, 2, 1])  # 还原维度\n",
    "        x = self.lsconv(x)\n",
    "        x = self.bn(x)\n",
    "        \n",
    "        return x\n",
    "\n",
    "class ResBlock(paddle.nn.Layer):\n",
    "    def __init__(self, in_channels, out_channels, features_num=1):\n",
    "        super(ResBlock, self).__init__()\n",
    "        self.in_channels = in_channels\n",
    "        self.out_channels = out_channels\n",
    "        self.features_num = features_num\n",
    "        # in_channels, 卷积层的输入通道数\n",
    "        # out_channels, 卷积层的输出通道数\n",
    "        # stride, 卷积层的步幅\n",
    "        # 创建第一个卷积层 1x1\n",
    "        self.bn1 = BatchNorm2D(in_channels)\n",
    "        self.conv1 = Conv2D(in_channels=in_channels, out_channels=out_channels, kernel_size=[1,3], stride=1, padding=[0,1])\n",
    "        self.bn2 = BatchNorm2D(out_channels)\n",
    "        self.conv2 = Conv2D(in_channels=out_channels, out_channels=out_channels, kernel_size=[1,3], stride=1, padding=[0,1])\n",
    "\n",
    "        self.sk = Conv2D(in_channels=in_channels, out_channels=out_channels, kernel_size=[1,1], padding=[0,0])\n",
    "\n",
    "    def forward(self, y):\n",
    "        self.temp = y  # Restemp\n",
    "        \n",
    "        y = self.bn1(y)\n",
    "        y = self.conv1(y)\n",
    "        y = self.bn2(y)\n",
    "        y = F.relu(y)\n",
    "        y = self.conv2(y)\n",
    "        y = self.bn2(y)\n",
    "\n",
    "        y = paddle.add(y, self.sk(self.temp))\n",
    "        return y\n",
    "\n",
    "class base_line_res(paddle.nn.Layer):\n",
    "    def __init__(self, num_classes=1 , resnum=8):\n",
    "        super(base_line_res, self).__init__()\n",
    "        self.head = paddle.nn.Sequential(\n",
    "                BatchNorm2D(bins),       \n",
    "                # 视野为5的二维卷积核\n",
    "                Conv2D(bins, bins, 5, padding=2),\n",
    "                ResBlock(bins, bins*2),\n",
    "                Dropout(p=0.2),\n",
    "                MaxPool2D([2,1],[2,1]),\n",
    "                ResBlock(bins*2, bins*3),\n",
    "                Dropout(p=0.2),\n",
    "                MaxPool2D([3,1],[3,1]),\n",
    "                ResBlock(bins*3, bins*3),\n",
    "                BatchNorm2D(bins*3),\n",
    "                paddle.nn.ReLU(),\n",
    "                Conv2D(bins*3, num_labels, [3, 1], padding=[1, 0]))\n",
    "        \n",
    "    def forward(self, x):\n",
    "        x = self.head(x)\n",
    "        return x\n",
    "\n",
    "\n",
    "class DRNet(paddle.nn.Layer):\n",
    "    def __init__(self, num_classes=1 , resnum=8):\n",
    "        super(DRNet, self).__init__()\n",
    "        self.head = paddle.nn.Sequential(\n",
    "                BatchNorm2D(bins),\n",
    "                LsBlock(bins, bins, 1, features_num=features_num),\n",
    "                Conv2D(bins, bins, [1, 5], padding=[0, 2]),\n",
    "                ResBlock(bins, bins*2, features_num=features_num),\n",
    "                Dropout(p=0.2),\n",
    "                MaxPool2D([2,1],[2,1]),\n",
    "                ResBlock(bins*2, bins*3),\n",
    "                Dropout(p=0.2),\n",
    "                MaxPool2D([3,1],[3,1]),\n",
    "                ResBlock(bins*3, bins*3),\n",
    "                BatchNorm2D(bins*3),\n",
    "                LsBlock(bins*3, bins*3, 2, 1),\n",
    "                BatchNorm2D(bins*3),\n",
    "                paddle.nn.ReLU(),\n",
    "                Conv2D(bins*3, num_labels, [3, 1], padding=[1, 0]))\n",
    "        \n",
    "    def forward(self, x):\n",
    "        x = self.head(x)\n",
    "        return x\n"
   ]
  },
  {
   "cell_type": "code",
   "execution_count": 71,
   "id": "6cb6797d-5237-42b4-9bc7-8982dd41a11d",
   "metadata": {
    "execution": {
     "iopub.execute_input": "2023-05-13T09:02:15.099484Z",
     "iopub.status.busy": "2023-05-13T09:02:15.098661Z",
     "iopub.status.idle": "2023-05-13T09:02:15.127459Z",
     "shell.execute_reply": "2023-05-13T09:02:15.126218Z",
     "shell.execute_reply.started": "2023-05-13T09:02:15.099448Z"
    },
    "scrolled": true,
    "tags": []
   },
   "outputs": [
    {
     "name": "stdout",
     "output_type": "stream",
     "text": [
      "(102, 88, 258)\r\n"
     ]
    }
   ],
   "source": [
    "import numpy as np\n",
    "\n",
    "path = \"output/\"\n",
    "predictfile = \"Predict.npy\"\n",
    "pitchfile=\"Predict_pitch.npy\"\n",
    "outputfile=\"春节序曲.svg\"\n",
    "\n",
    "data = np.load(predictfile)\n",
    "\n",
    "har_num = 3  # 最高泛音序列倍数(务必>1，因为这里代表的是倍数，1倍等于没有变化)\n",
    "batch_size = 100\n",
    "num_labels = 11\n",
    "modelid = 2  # 0: base_line, 1:base_line with resblock, 2: DRNet\n",
    "order_difference = 2  # 差分次数\n",
    "best_threshold = 0.32\n",
    "\n",
    "odsum = []\n",
    "pitch = []\n",
    "cqcc = []\n",
    "\n",
    "print(data.shape)"
   ]
  },
  {
   "cell_type": "code",
   "execution_count": 72,
   "id": "39d750ed-ed3e-4d44-ac9c-b01638d8ad03",
   "metadata": {
    "execution": {
     "iopub.execute_input": "2023-05-13T09:02:15.129428Z",
     "iopub.status.busy": "2023-05-13T09:02:15.129086Z",
     "iopub.status.idle": "2023-05-13T09:02:15.209263Z",
     "shell.execute_reply": "2023-05-13T09:02:15.207970Z",
     "shell.execute_reply.started": "2023-05-13T09:02:15.129399Z"
    },
    "scrolled": true,
    "tags": []
   },
   "outputs": [],
   "source": [
    "delx = []\n",
    "for i in range(order_difference):\n",
    "    if i == 0:\n",
    "        delx = data\n",
    "    delx = np.diff(delx, 1, axis=2)\n",
    "    temp = np.zeros([data.shape[0], data.shape[1], 1])\n",
    "    delx = np.concatenate([temp, delx], axis=2)\n",
    "    odsum.append((np.array(delx)).astype(\"float32\"))\n",
    "delx = None\n",
    "odsum = np.array(odsum)\n",
    "odsum = odsum.reshape([data.shape[0], data.shape[1], order_difference, data.shape[2]])"
   ]
  },
  {
   "cell_type": "code",
   "execution_count": 73,
   "id": "3d2f31c7-5e3d-4a20-bced-8a98ec84d5e6",
   "metadata": {
    "execution": {
     "iopub.execute_input": "2023-05-13T09:02:15.211296Z",
     "iopub.status.busy": "2023-05-13T09:02:15.210969Z",
     "iopub.status.idle": "2023-05-13T09:02:15.275962Z",
     "shell.execute_reply": "2023-05-13T09:02:15.274542Z",
     "shell.execute_reply.started": "2023-05-13T09:02:15.211270Z"
    },
    "scrolled": true,
    "tags": []
   },
   "outputs": [],
   "source": [
    "\n",
    "import math\n",
    "\n",
    "def pitchnorm(pitch, har_num, Thre=False):\n",
    "    # 泛音序列处理，先读取泛音序列，之后便不再考虑该数组\n",
    "    minum = np.min(pitch)\n",
    "    maxum = np.max(pitch)\n",
    "    temp_pitch = pitch\n",
    "    for i in range(har_num - 1):\n",
    "        times = int(math.log2(i + 2) * 12)\n",
    "        temp = np.roll(pitch, times, axis=1)\n",
    "        temp[:, :times, :] = minum\n",
    "        temp_pitch += temp\n",
    "\n",
    "    pitch = temp_pitch\n",
    "    temp_pitch = []\n",
    "    # 归一化\n",
    "    pitch = pitch/(maxum - minum)\n",
    "    # 二值化\n",
    "    if Thre:\n",
    "        pitch = np.int64(data>0.5)\n",
    "    return pitch\n",
    "\n",
    "pitch = np.load(pitchfile)\n",
    "pitch = pitchnorm(pitch, har_num)\n",
    "pitch = pitch.reshape([pitch.shape[0], pitch.shape[1], 1, pitch.shape[2]])"
   ]
  },
  {
   "cell_type": "code",
   "execution_count": 74,
   "id": "ada435c4-fbb3-47f4-985a-a5b6373cfe28",
   "metadata": {
    "execution": {
     "iopub.execute_input": "2023-05-13T09:02:15.280487Z",
     "iopub.status.busy": "2023-05-13T09:02:15.279413Z",
     "iopub.status.idle": "2023-05-13T09:02:15.368567Z",
     "shell.execute_reply": "2023-05-13T09:02:15.366974Z",
     "shell.execute_reply.started": "2023-05-13T09:02:15.280452Z"
    },
    "scrolled": true,
    "tags": []
   },
   "outputs": [
    {
     "name": "stderr",
     "output_type": "stream",
     "text": [
      "100%|██████████| 102/102 [00:00<00:00, 1460.55it/s]"
     ]
    },
    {
     "name": "stdout",
     "output_type": "stream",
     "text": [
      "(102, 88, 1, 258)\r\n"
     ]
    },
    {
     "name": "stderr",
     "output_type": "stream",
     "text": [
      "\r\n"
     ]
    }
   ],
   "source": [
    "# cqcc\n",
    "from tqdm import tqdm\n",
    "\n",
    "import matplotlib.pyplot as plt\n",
    "import cv2\n",
    "\n",
    "cqcc = np.zeros(data.shape)\n",
    "cqcc = cqcc.astype('float32')\n",
    "with tqdm(total=data.shape[0]) as pbar:\n",
    "    for i in range(data.shape[0]):\n",
    "        cqcc[i] = cv2.dct(data[i])\n",
    "        pbar.update(1)\n",
    "        \n",
    "cqcc = cqcc.reshape([data.shape[0], data.shape[1], 1, data.shape[2]])\n",
    "print(cqcc.shape)\n"
   ]
  },
  {
   "cell_type": "code",
   "execution_count": 75,
   "id": "5e91cb7f-b2ef-486c-887c-d2624d88387d",
   "metadata": {
    "execution": {
     "iopub.execute_input": "2023-05-13T09:02:15.370977Z",
     "iopub.status.busy": "2023-05-13T09:02:15.370491Z",
     "iopub.status.idle": "2023-05-13T09:02:15.378269Z",
     "shell.execute_reply": "2023-05-13T09:02:15.377039Z",
     "shell.execute_reply.started": "2023-05-13T09:02:15.370927Z"
    },
    "scrolled": true
   },
   "outputs": [
    {
     "name": "stdout",
     "output_type": "stream",
     "text": [
      "(102, 88, 258) (102, 88, 1, 258) (102, 88, 1, 258) (102, 88, 2, 258)\r\n"
     ]
    }
   ],
   "source": [
    "print(data.shape, pitch.shape, cqcc.shape, odsum.shape)"
   ]
  },
  {
   "cell_type": "code",
   "execution_count": 76,
   "id": "98aaea49-c0e9-45e1-9870-e0e76a942029",
   "metadata": {
    "execution": {
     "iopub.execute_input": "2023-05-13T09:02:15.380999Z",
     "iopub.status.busy": "2023-05-13T09:02:15.380097Z",
     "iopub.status.idle": "2023-05-13T09:02:15.516670Z",
     "shell.execute_reply": "2023-05-13T09:02:15.514866Z",
     "shell.execute_reply.started": "2023-05-13T09:02:15.380953Z"
    },
    "scrolled": true,
    "tags": []
   },
   "outputs": [
    {
     "name": "stdout",
     "output_type": "stream",
     "text": [
      "(102, 88, 5, 258)\r\n"
     ]
    }
   ],
   "source": [
    "def reshac(data):\n",
    "    if modelid == 0:\n",
    "        data = data.reshape([data.shape[0], 1, data.shape[2], data.shape[1]])\n",
    "    else:\n",
    "        data = data.reshape([data.shape[0], data.shape[1], 1, data.shape[2]])\n",
    "    return data\n",
    "\n",
    "data = reshac(data)\n",
    "features_num = 1\n",
    "if len(pitch) != 0:\n",
    "    data = np.concatenate([data, pitch], axis=2)\n",
    "    features_num += 1\n",
    "    pitch = []\n",
    "if len(cqcc) != 0:\n",
    "    data = np.concatenate([data, cqcc], axis=2)\n",
    "    features_num += 1\n",
    "    cqcc = []\n",
    "if len(odsum) != 0:\n",
    "    data = np.concatenate([data, odsum], axis=2)\n",
    "    features_num += order_difference\n",
    "    odsum = []\n",
    "\n",
    "bins = data.shape[1]\n",
    "\n",
    "print(data.shape)\n",
    "data = data.astype(\"float32\")\n",
    "data = data[:100,:,:,:]"
   ]
  },
  {
   "cell_type": "code",
   "execution_count": 77,
   "id": "c0a9a376-8903-4cc8-87f7-3a4966f400c7",
   "metadata": {
    "execution": {
     "iopub.execute_input": "2023-05-13T09:02:15.519012Z",
     "iopub.status.busy": "2023-05-13T09:02:15.518623Z",
     "iopub.status.idle": "2023-05-13T09:02:15.831498Z",
     "shell.execute_reply": "2023-05-13T09:02:15.830303Z",
     "shell.execute_reply.started": "2023-05-13T09:02:15.518981Z"
    },
    "scrolled": true,
    "tags": []
   },
   "outputs": [
    {
     "name": "stdout",
     "output_type": "stream",
     "text": [
      "[100, 88, 5, 258]\r\n"
     ]
    }
   ],
   "source": [
    "from TrainRunner import Runner\n",
    "import paddle.nn.functional as F\n",
    "\n",
    "model = DRNet()\n",
    "opt = paddle.optimizer.Momentum(learning_rate=0.01, momentum=0.9, parameters=model.parameters(), weight_decay=1e-4)\n",
    "use_gpu = True\n",
    "paddle.device.set_device('gpu:0') if use_gpu else paddle.device.set_device('cpu')\n",
    "\n",
    "#加载模型的参数\n",
    "model.set_state_dict(paddle.load(path + \"palm.pdparams\"))\n",
    "#加载优化器的参数\n",
    "opt.set_state_dict(paddle.load(path + \"palm.pdopt\"))\n",
    "\n",
    "model.eval()\n",
    "data = paddle.to_tensor(data)\n",
    "print(data.shape)\n",
    "logits = model(data)\n",
    "pred = F.sigmoid(logits)\n",
    "pred = np.int64(pred>best_threshold)\n",
    "pred = paddle.to_tensor(pred)"
   ]
  },
  {
   "cell_type": "code",
   "execution_count": 78,
   "id": "43f9b681-0326-4576-8642-847af458a71c",
   "metadata": {
    "execution": {
     "iopub.execute_input": "2023-05-13T09:02:15.833679Z",
     "iopub.status.busy": "2023-05-13T09:02:15.832941Z",
     "iopub.status.idle": "2023-05-13T09:02:15.841545Z",
     "shell.execute_reply": "2023-05-13T09:02:15.840497Z",
     "shell.execute_reply.started": "2023-05-13T09:02:15.833645Z"
    },
    "scrolled": true,
    "tags": []
   },
   "outputs": [
    {
     "name": "stdout",
     "output_type": "stream",
     "text": [
      "[25800, 11]\r\n"
     ]
    }
   ],
   "source": [
    "ins = [\n",
    "        \"Piano\",\n",
    "        \"Harpsichord\",\n",
    "        \"Violin\",\n",
    "        \"Viola\",\n",
    "        \"Cello\",\n",
    "        \"String Bass\",\n",
    "        \"Bassoon\",\n",
    "        \"Clarinet\",\n",
    "        \"Flute\",\n",
    "        \"Horn\",\n",
    "        \"Oboe\"]\n",
    "pred = paddle.transpose(pred, perm=[0, 3, 2, 1])\n",
    "pred = pred.reshape([-1,11])\n",
    "print(pred.shape)\n",
    "pred = pred.numpy()\n",
    "pred = pred.transpose()"
   ]
  },
  {
   "cell_type": "code",
   "execution_count": 84,
   "id": "230df56e-fa2a-454a-94a6-e213b28f4fa5",
   "metadata": {
    "execution": {
     "iopub.execute_input": "2023-05-13T09:08:22.035046Z",
     "iopub.status.busy": "2023-05-13T09:08:22.034403Z",
     "iopub.status.idle": "2023-05-13T09:08:22.884537Z",
     "shell.execute_reply": "2023-05-13T09:08:22.883460Z",
     "shell.execute_reply.started": "2023-05-13T09:08:22.035008Z"
    },
    "scrolled": true,
    "tags": []
   },
   "outputs": [
    {
     "name": "stdout",
     "output_type": "stream",
     "text": [
      "0:00:00\r\n",
      "0:00:15\r\n",
      "0:00:30\r\n",
      "0:00:45\r\n",
      "0:01:00\r\n",
      "0:01:15\r\n",
      "0:01:30\r\n",
      "0:01:45\r\n",
      "0:02:00\r\n",
      "0:02:15\r\n",
      "0:02:30\r\n",
      "0:02:45\r\n",
      "0:03:00\r\n",
      "0:03:15\r\n",
      "0:03:30\r\n",
      "0:03:45\r\n",
      "0:04:00\r\n",
      "0:04:15\r\n",
      "0:04:30\r\n",
      "0:04:45\r\n",
      "0:05:00\r\n"
     ]
    },
    {
     "data": {
      "text/plain": [
       "<Figure size 640x480 with 0 Axes>"
      ]
     },
     "metadata": {},
     "output_type": "display_data"
    },
    {
     "data": {
      "image/png": "[encoded data removed]",
      "text/plain": [
       "<Figure size 2000x800 with 1 Axes>"
      ]
     },
     "metadata": {},
     "output_type": "display_data"
    }
   ],
   "source": [
    "import matplotlib.pyplot as plt\n",
    "import matplotlib.ticker as ticker\n",
    "\n",
    "import datetime\n",
    "\n",
    "plt.figure()\n",
    "time = [0]\n",
    "now = 0\n",
    "for i in range(int(pred.shape[1]/(15*86))+1):\n",
    "    ConvertedSec = str(datetime.timedelta(seconds = now))\n",
    "    print(ConvertedSec)\n",
    "    time.append(ConvertedSec)\n",
    "    now += 15\n",
    "    # 每循环一次增加10s\n",
    "\n",
    "fig, ax = plt.subplots(figsize=(20,8))\n",
    "pos_list = np.arange(len(ins))\n",
    "ax.xaxis.set_major_locator(ticker.MultipleLocator(15*86))\n",
    "ax.xaxis.set_major_formatter(ticker.FixedFormatter((time)))\n",
    "ax.yaxis.set_major_formatter(ticker.FixedFormatter((ins)))\n",
    "ax.yaxis.set_major_locator(ticker.FixedLocator((pos_list)))\n",
    "plt.imshow(pred,cmap=plt.cm.RdPu, interpolation='nearest', aspect='auto')\n",
    "plt.savefig(outputfile,dip=300,format=\"svg\")\n",
    "plt.show()"
   ]
  },
  {
   "cell_type": "code",
   "execution_count": null,
   "id": "7ba35a0a-28e7-4f62-af45-e9852165cecb",
   "metadata": {
    "scrolled": true
   },
   "outputs": [],
   "source": []
  }
 ],
 "metadata": {
  "kernelspec": {
   "display_name": "Python 3",
   "language": "python",
   "name": "py35-paddle1.2.0"
  },
  "language_info": {
   "codemirror_mode": {
    "name": "ipython",
    "version": 3
   },
   "file_extension": ".py",
   "mimetype": "text/x-python",
   "name": "python",
   "nbconvert_exporter": "python",
   "pygments_lexer": "ipython3",
   "version": "3.7.4"
  }
 },
 "nbformat": 4,
 "nbformat_minor": 5
}
