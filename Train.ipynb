{
 "cells": [
  {
   "cell_type": "code",
   "execution_count": null,
   "id": "e5d07e97-1e23-477a-96c4-270b5ff967cb",
   "metadata": {
    "scrolled": true,
    "tags": []
   },
   "outputs": [],
   "source": [
    "from start import starttrain\n",
    "# cqt+cqcc\n",
    "starttrain(featuresstate={\"cqcc\":True, \"pitch\":False, \"OD\":False}, featurename=\"cqt_cqcc\", har_num=1, modelid=2,od=1)\n"
   ]
  },
  {
   "cell_type": "code",
   "execution_count": null,
   "id": "cdeb8fb2-a298-4aa8-a56c-59a2593b5b12",
   "metadata": {
    "scrolled": true,
    "tags": []
   },
   "outputs": [],
   "source": [
    "# cqt+od\n",
    "starttrain(featuresstate={\"cqcc\":False, \"pitch\":False, \"OD\":True}, featurename=\"cqt_1od\", har_num=1, modelid=2,od=1)\n",
    "starttrain(featuresstate={\"cqcc\":False, \"pitch\":False, \"OD\":True}, featurename=\"cqt_1,2od\", har_num=1, modelid=2,od=2)\n"
   ]
  },
  {
   "cell_type": "code",
   "execution_count": null,
   "id": "576512c6-a540-44f5-8859-48f522d6b851",
   "metadata": {
    "scrolled": true,
    "tags": []
   },
   "outputs": [],
   "source": [
    "# cqt+hsf\n",
    "starttrain(featuresstate={\"cqcc\":False, \"pitch\":True, \"OD\":False}, featurename=\"cqt_hsf1\", har_num=1, modelid=2,od=1)\n",
    "starttrain(featuresstate={\"cqcc\":False, \"pitch\":True, \"OD\":False}, featurename=\"cqt_hsf2\", har_num=2, modelid=2,od=1)\n",
    "starttrain(featuresstate={\"cqcc\":False, \"pitch\":True, \"OD\":False}, featurename=\"cqt_hsf3\", har_num=3, modelid=2,od=1)\n",
    "starttrain(featuresstate={\"cqcc\":False, \"pitch\":True, \"OD\":False}, featurename=\"cqt_hsf4\", har_num=4, modelid=2,od=1)\n",
    "starttrain(featuresstate={\"cqcc\":False, \"pitch\":True, \"OD\":False}, featurename=\"cqt_hsf5\", har_num=5, modelid=2,od=1)"
   ]
  },
  {
   "cell_type": "code",
   "execution_count": null,
   "id": "dbf5fd00-69c2-4ee1-afc1-2acc931be4d2",
   "metadata": {
    "scrolled": true
   },
   "outputs": [],
   "source": []
  }
 ],
 "metadata": {
  "kernelspec": {
   "display_name": "Python 3",
   "language": "python",
   "name": "py35-paddle1.2.0"
  },
  "language_info": {
   "codemirror_mode": {
    "name": "ipython",
    "version": 3
   },
   "file_extension": ".py",
   "mimetype": "text/x-python",
   "name": "python",
   "nbconvert_exporter": "python",
   "pygments_lexer": "ipython3",
   "version": "3.7.4"
  }
 },
 "nbformat": 4,
 "nbformat_minor": 5
}
